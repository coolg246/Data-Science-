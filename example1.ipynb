{
 "cells": [
  {
   "cell_type": "code",
   "execution_count": 1,
   "metadata": {},
   "outputs": [],
   "source": [
    "# importing libraries\n",
    "import os\n",
    "import gym\n",
    "from stable_baselines3 import PPO\n",
    "from stable_baselines3.common.vec_env import DummyVecEnv\n",
    "from stable_baselines3.common.evaluation import evaluate_policy\n"
   ]
  },
  {
   "cell_type": "code",
   "execution_count": 4,
   "metadata": {},
   "outputs": [
    {
     "name": "stdout",
     "output_type": "stream",
     "text": [
      "Episode:1 Score:22.0\n",
      "Episode:2 Score:24.0\n",
      "Episode:3 Score:15.0\n",
      "Episode:4 Score:13.0\n",
      "Episode:5 Score:20.0\n",
      "Episode:6 Score:13.0\n",
      "Episode:7 Score:10.0\n",
      "Episode:8 Score:21.0\n",
      "Episode:9 Score:11.0\n",
      "Episode:10 Score:28.0\n",
      "Episode:11 Score:17.0\n",
      "Episode:12 Score:16.0\n",
      "Episode:13 Score:21.0\n",
      "Episode:14 Score:9.0\n",
      "Episode:15 Score:26.0\n",
      "Episode:16 Score:35.0\n",
      "Episode:17 Score:41.0\n",
      "Episode:18 Score:18.0\n",
      "Episode:19 Score:29.0\n",
      "Episode:20 Score:12.0\n"
     ]
    }
   ],
   "source": [
    "# Load the environment\n",
    "environment_name = 'CartPole-v1'\n",
    "env = gym.make(environment_name, render_mode='human')\n",
    "\n",
    "# Check the environment\n",
    "episodes = 20\n",
    "for episode in range(1, episodes+1):\n",
    "    state = env.reset()\n",
    "    done = False\n",
    "    score = 0\n",
    "\n",
    "    while not done:\n",
    "        env.render() # Display the game screen\n",
    "        action = env.action_space.sample()\n",
    "        n_state, reward, done, nd_done, info = env.step(action)\n",
    "        score += reward\n",
    "    print('Episode:{} Score:{}'.format(episode, score))\n",
    "\n",
    "env.close()"
   ]
  }
 ],
 "metadata": {
  "kernelspec": {
   "display_name": "Python 3",
   "language": "python",
   "name": "python3"
  },
  "language_info": {
   "codemirror_mode": {
    "name": "ipython",
    "version": 3
   },
   "file_extension": ".py",
   "mimetype": "text/x-python",
   "name": "python",
   "nbconvert_exporter": "python",
   "pygments_lexer": "ipython3",
   "version": "3.10.11"
  }
 },
 "nbformat": 4,
 "nbformat_minor": 2
}
